{
  "nbformat": 4,
  "nbformat_minor": 0,
  "metadata": {
    "colab": {
      "provenance": [],
      "authorship_tag": "ABX9TyNJLQgftHciMmsXa+pJ7jh3",
      "include_colab_link": true
    },
    "kernelspec": {
      "name": "python3",
      "display_name": "Python 3"
    },
    "language_info": {
      "name": "python"
    }
  },
  "cells": [
    {
      "cell_type": "markdown",
      "metadata": {
        "id": "view-in-github",
        "colab_type": "text"
      },
      "source": [
        "<a href=\"https://colab.research.google.com/github/soumodeep60/SQL/blob/main/SQL_Basics.ipynb\" target=\"_parent\"><img src=\"https://colab.research.google.com/assets/colab-badge.svg\" alt=\"Open In Colab\"/></a>"
      ]
    },
    {
      "cell_type": "code",
      "execution_count": 1,
      "metadata": {
        "id": "bU0ZFN6pjFjL"
      },
      "outputs": [],
      "source": [
        "!apt-get update > null\n",
        "!apt-get -y install mysql-server > null"
      ]
    },
    {
      "cell_type": "code",
      "source": [
        "!/etc/init.d/mysql restart"
      ],
      "metadata": {
        "colab": {
          "base_uri": "https://localhost:8080/"
        },
        "id": "8BrWvOayjcDd",
        "outputId": "49437488-ec86-4b42-f329-6791853a284e"
      },
      "execution_count": 2,
      "outputs": [
        {
          "output_type": "stream",
          "name": "stdout",
          "text": [
            " * Stopping MySQL database server mysqld\n",
            "   ...done.\n",
            " * Starting MySQL database server mysqld\n",
            "No directory, logging in with HOME=/\n",
            "   ...done.\n"
          ]
        }
      ]
    },
    {
      "cell_type": "code",
      "source": [
        "!mysql --version"
      ],
      "metadata": {
        "colab": {
          "base_uri": "https://localhost:8080/"
        },
        "id": "N-bJg3EljerF",
        "outputId": "61e01c13-3072-4e0e-8e79-78666c4ddfee"
      },
      "execution_count": 3,
      "outputs": [
        {
          "output_type": "stream",
          "name": "stdout",
          "text": [
            "mysql  Ver 14.14 Distrib 5.7.39, for Linux (x86_64) using  EditLine wrapper\n"
          ]
        }
      ]
    },
    {
      "cell_type": "code",
      "source": [
        "!mysql -e 'create database Soumo_DB'\n",
        "!mysql -e 'show databases'"
      ],
      "metadata": {
        "colab": {
          "base_uri": "https://localhost:8080/"
        },
        "id": "TdC4Zl-HjhBK",
        "outputId": "fa4c98e7-1863-40fb-d950-49cf7491ec08"
      },
      "execution_count": 4,
      "outputs": [
        {
          "output_type": "stream",
          "name": "stdout",
          "text": [
            "+--------------------+\n",
            "| Database           |\n",
            "+--------------------+\n",
            "| information_schema |\n",
            "| Soumo_DB           |\n",
            "| mysql              |\n",
            "| performance_schema |\n",
            "| sys                |\n",
            "+--------------------+\n"
          ]
        }
      ]
    },
    {
      "cell_type": "code",
      "source": [
        "!gdown  https://drive.google.com/uc?id=1rCDmfQ2Mjc5_s6BwRrd7EV9AxbGEnK0s\n",
        "!gdown  https://drive.google.com/uc?id=11hvDdwhPpa9D7UcAFiKQ0xZz2A-gy6IE"
      ],
      "metadata": {
        "colab": {
          "base_uri": "https://localhost:8080/"
        },
        "id": "00x5Il_jjmSV",
        "outputId": "e38a8ba8-51de-474d-b714-3e3fa9fb242a"
      },
      "execution_count": 5,
      "outputs": [
        {
          "output_type": "stream",
          "name": "stdout",
          "text": [
            "Downloading...\n",
            "From: https://drive.google.com/uc?id=1rCDmfQ2Mjc5_s6BwRrd7EV9AxbGEnK0s\n",
            "To: /content/emp.csv\n",
            "100% 734/734 [00:00<00:00, 1.22MB/s]\n",
            "Downloading...\n",
            "From: https://drive.google.com/uc?id=11hvDdwhPpa9D7UcAFiKQ0xZz2A-gy6IE\n",
            "To: /content/dept.csv\n",
            "100% 148/148 [00:00<00:00, 260kB/s]\n"
          ]
        }
      ]
    },
    {
      "cell_type": "code",
      "source": [
        "!ls"
      ],
      "metadata": {
        "colab": {
          "base_uri": "https://localhost:8080/"
        },
        "id": "GAu_ITxQk2JX",
        "outputId": "c7688bbc-8149-4236-bd5a-ca48c99aa6ad"
      },
      "execution_count": 6,
      "outputs": [
        {
          "output_type": "stream",
          "name": "stdout",
          "text": [
            "dept.csv  emp.csv  null  sample_data\n"
          ]
        }
      ]
    },
    {
      "cell_type": "code",
      "source": [
        "!mysql Soumo_DB -e 'drop table empl'\n",
        "!mysql Soumo_DB -e 'create table empl (empid char(6),lastname varchar(20), firstname varchar(20), jobdesc varchar(10), joindate date, salary int, comm decimal(3,2), deptid char(2));'\n",
        "!mysql Soumo_DB -e 'drop table dept'\n",
        "!mysql Soumo_DB -e 'create table dept (deptid char(2),deptname varchar(20), managerid char(6), location varchar(10));'"
      ],
      "metadata": {
        "colab": {
          "base_uri": "https://localhost:8080/"
        },
        "id": "47fgGTtDk6P6",
        "outputId": "151fa467-2a2e-463d-f9cd-3e07eb5d250b"
      },
      "execution_count": 7,
      "outputs": [
        {
          "output_type": "stream",
          "name": "stdout",
          "text": [
            "ERROR 1051 (42S02) at line 1: Unknown table 'Soumo_DB.empl'\n",
            "ERROR 1051 (42S02) at line 1: Unknown table 'Soumo_DB.dept'\n"
          ]
        }
      ]
    },
    {
      "cell_type": "code",
      "source": [
        "!mysql Soumo_DB -e 'desc empl'\n",
        "!mysql Soumo_DB -e 'desc dept'"
      ],
      "metadata": {
        "colab": {
          "base_uri": "https://localhost:8080/"
        },
        "id": "Yd5UEwzPl0w2",
        "outputId": "7b786039-4ba6-42cb-c905-0332f4b7f5b7"
      },
      "execution_count": 8,
      "outputs": [
        {
          "output_type": "stream",
          "name": "stdout",
          "text": [
            "+-----------+--------------+------+-----+---------+-------+\n",
            "| Field     | Type         | Null | Key | Default | Extra |\n",
            "+-----------+--------------+------+-----+---------+-------+\n",
            "| empid     | char(6)      | YES  |     | NULL    |       |\n",
            "| lastname  | varchar(20)  | YES  |     | NULL    |       |\n",
            "| firstname | varchar(20)  | YES  |     | NULL    |       |\n",
            "| jobdesc   | varchar(10)  | YES  |     | NULL    |       |\n",
            "| joindate  | date         | YES  |     | NULL    |       |\n",
            "| salary    | int(11)      | YES  |     | NULL    |       |\n",
            "| comm      | decimal(3,2) | YES  |     | NULL    |       |\n",
            "| deptid    | char(2)      | YES  |     | NULL    |       |\n",
            "+-----------+--------------+------+-----+---------+-------+\n",
            "+-----------+-------------+------+-----+---------+-------+\n",
            "| Field     | Type        | Null | Key | Default | Extra |\n",
            "+-----------+-------------+------+-----+---------+-------+\n",
            "| deptid    | char(2)     | YES  |     | NULL    |       |\n",
            "| deptname  | varchar(20) | YES  |     | NULL    |       |\n",
            "| managerid | char(6)     | YES  |     | NULL    |       |\n",
            "| location  | varchar(10) | YES  |     | NULL    |       |\n",
            "+-----------+-------------+------+-----+---------+-------+\n"
          ]
        }
      ]
    },
    {
      "cell_type": "code",
      "source": [
        "!mysql Soumo_DB -e \"LOAD DATA LOCAL INFILE 'emp.csv' INTO TABLE empl FIELDS TERMINATED BY ',' IGNORE 1 LINES;\"\n",
        "!mysql Soumo_DB -e \"LOAD DATA LOCAL INFILE 'dept.csv' INTO TABLE dept FIELDS TERMINATED BY ',' LINES TERMINATED BY '\\r\\n'  IGNORE 1 LINES;\""
      ],
      "metadata": {
        "id": "2-Wi_V4Rl3dJ"
      },
      "execution_count": 9,
      "outputs": []
    },
    {
      "cell_type": "code",
      "source": [
        "!mysql Soumo_DB -e 'select * from empl'"
      ],
      "metadata": {
        "colab": {
          "base_uri": "https://localhost:8080/"
        },
        "id": "DffYP7Ixl7sG",
        "outputId": "42b05cdc-b47c-4d4b-dff5-ece3ea9a69a5"
      },
      "execution_count": 10,
      "outputs": [
        {
          "output_type": "stream",
          "name": "stdout",
          "text": [
            "+--------+-------------+-----------+------------+------------+--------+------+--------+\n",
            "| empid  | lastname    | firstname | jobdesc    | joindate   | salary | comm | deptid |\n",
            "+--------+-------------+-----------+------------+------------+--------+------+--------+\n",
            "| 742866 | Bacchan     | Amitabh   | Executive  | 2003-03-10 |  50000 | 0.10 | 10     |\n",
            "| 349870 | Mukherjee   | Rani      | Manager    | 2005-05-04 |  25000 | 0.06 | 40     |\n",
            "| 865477 | Dikshit     | Madhuri   | Clerk      | 2002-04-04 |  10000 | 0.02 | 20     |\n",
            "| 239456 | Khan        | Shahrukh  | Manager    | 2004-01-03 |  30000 | 0.07 | 20     |\n",
            "| 897889 | Sehwag      | Virender  | Cus_Rep    | 2005-01-02 |  15000 | 0.05 | 20     |\n",
            "| 123980 | Dhoni       | Mahender  | Clerk      | 2004-10-09 |   9000 | 0.02 | 40     |\n",
            "| 822134 | Dravid      | Rahul     | Sr Manager | 2000-06-04 |  40000 | 0.08 | 30     |\n",
            "| 997445 | Dalmia      | Jagmohan  | Clerk      | 2001-07-01 |  12000 | 0.02 | 30     |\n",
            "| 989007 | Ganguly     | Sourav    | Cus_Rep    | 2002-01-01 |  20000 | 0.03 | 40     |\n",
            "| 299034 | Ganesan     | Rekha     | Director   | 2002-10-10 |  60000 | 0.11 | 10     |\n",
            "| 546223 | Karthikeyan | Narayan   | Secretary  | 2005-12-04 |  40000 | 0.09 | 10     |\n",
            "| 223112 | Mirza       | Sania     | Cus_Rep    | 2001-11-19 |  25000 | 0.04 | 30     |\n",
            "+--------+-------------+-----------+------------+------------+--------+------+--------+\n"
          ]
        }
      ]
    },
    {
      "cell_type": "code",
      "source": [
        "!mysql Soumo_DB -e 'select * from dept'"
      ],
      "metadata": {
        "colab": {
          "base_uri": "https://localhost:8080/"
        },
        "id": "VKh_JbZ4l_AV",
        "outputId": "5cc7f848-1596-4827-aa69-c95cd17ff9ea"
      },
      "execution_count": 11,
      "outputs": [
        {
          "output_type": "stream",
          "name": "stdout",
          "text": [
            "+--------+------------+-----------+----------+\n",
            "| deptid | deptname   | managerid | location |\n",
            "+--------+------------+-----------+----------+\n",
            "| 10     | Corporate  | 299034    | Calcutta |\n",
            "| 20     | Sales      | 239456    | Calcutta |\n",
            "| 30     | Accounts   | 822134    | Calcutta |\n",
            "| 40     | Production | 349870    | Bombay   |\n",
            "+--------+------------+-----------+----------+\n"
          ]
        }
      ]
    },
    {
      "cell_type": "markdown",
      "source": [
        "# B"
      ],
      "metadata": {
        "id": "oWgVzmxEsExp"
      }
    },
    {
      "cell_type": "code",
      "source": [
        "!mysql Soumo_DB -e 'select lastname,jobdesc from empl'"
      ],
      "metadata": {
        "colab": {
          "base_uri": "https://localhost:8080/"
        },
        "id": "ThvX59bYmCN9",
        "outputId": "10c51423-6744-4139-d6c8-6eb1b10808f0"
      },
      "execution_count": 12,
      "outputs": [
        {
          "output_type": "stream",
          "name": "stdout",
          "text": [
            "+-------------+------------+\n",
            "| lastname    | jobdesc    |\n",
            "+-------------+------------+\n",
            "| Bacchan     | Executive  |\n",
            "| Mukherjee   | Manager    |\n",
            "| Dikshit     | Clerk      |\n",
            "| Khan        | Manager    |\n",
            "| Sehwag      | Cus_Rep    |\n",
            "| Dhoni       | Clerk      |\n",
            "| Dravid      | Sr Manager |\n",
            "| Dalmia      | Clerk      |\n",
            "| Ganguly     | Cus_Rep    |\n",
            "| Ganesan     | Director   |\n",
            "| Karthikeyan | Secretary  |\n",
            "| Mirza       | Cus_Rep    |\n",
            "+-------------+------------+\n"
          ]
        }
      ]
    },
    {
      "cell_type": "code",
      "source": [
        "!mysql Soumo_DB -e 'select distinct jobdesc,lastname from empl'"
      ],
      "metadata": {
        "colab": {
          "base_uri": "https://localhost:8080/"
        },
        "id": "hPHLiLwfmcSD",
        "outputId": "5592c353-9ff1-46d6-dbb5-a9a3a3b78cce"
      },
      "execution_count": 13,
      "outputs": [
        {
          "output_type": "stream",
          "name": "stdout",
          "text": [
            "+------------+-------------+\n",
            "| jobdesc    | lastname    |\n",
            "+------------+-------------+\n",
            "| Executive  | Bacchan     |\n",
            "| Manager    | Mukherjee   |\n",
            "| Clerk      | Dikshit     |\n",
            "| Manager    | Khan        |\n",
            "| Cus_Rep    | Sehwag      |\n",
            "| Clerk      | Dhoni       |\n",
            "| Sr Manager | Dravid      |\n",
            "| Clerk      | Dalmia      |\n",
            "| Cus_Rep    | Ganguly     |\n",
            "| Director   | Ganesan     |\n",
            "| Secretary  | Karthikeyan |\n",
            "| Cus_Rep    | Mirza       |\n",
            "+------------+-------------+\n"
          ]
        }
      ]
    },
    {
      "cell_type": "code",
      "source": [
        "!mysql Soumo_DB -e 'select firstname,lastname,jobdesc,salary from empl where salary>30000';"
      ],
      "metadata": {
        "colab": {
          "base_uri": "https://localhost:8080/"
        },
        "id": "jvkWRJTAmhr7",
        "outputId": "38b209f9-9457-4c3a-9d0b-e247e2b747ed"
      },
      "execution_count": 23,
      "outputs": [
        {
          "output_type": "stream",
          "name": "stdout",
          "text": [
            "+-----------+-------------+------------+--------+\n",
            "| firstname | lastname    | jobdesc    | salary |\n",
            "+-----------+-------------+------------+--------+\n",
            "| Amitabh   | Bacchan     | Executive  |  50000 |\n",
            "| Rahul     | Dravid      | Sr Manager |  40000 |\n",
            "| Rekha     | Ganesan     | Director   |  60000 |\n",
            "| Narayan   | Karthikeyan | Secretary  |  40000 |\n",
            "+-----------+-------------+------------+--------+\n"
          ]
        }
      ]
    },
    {
      "cell_type": "code",
      "source": [
        "!mysql Soumo_DB -e 'select firstname,lastname,jobdesc,salary from empl where salary<>30000';"
      ],
      "metadata": {
        "colab": {
          "base_uri": "https://localhost:8080/"
        },
        "id": "YvGaYNwDm0WO",
        "outputId": "25d640dc-1590-4220-8de5-a3de94cfe094"
      },
      "execution_count": 25,
      "outputs": [
        {
          "output_type": "stream",
          "name": "stdout",
          "text": [
            "+-----------+-------------+------------+--------+\n",
            "| firstname | lastname    | jobdesc    | salary |\n",
            "+-----------+-------------+------------+--------+\n",
            "| Amitabh   | Bacchan     | Executive  |  50000 |\n",
            "| Rani      | Mukherjee   | Manager    |  25000 |\n",
            "| Madhuri   | Dikshit     | Clerk      |  10000 |\n",
            "| Virender  | Sehwag      | Cus_Rep    |  15000 |\n",
            "| Mahender  | Dhoni       | Clerk      |   9000 |\n",
            "| Rahul     | Dravid      | Sr Manager |  40000 |\n",
            "| Jagmohan  | Dalmia      | Clerk      |  12000 |\n",
            "| Sourav    | Ganguly     | Cus_Rep    |  20000 |\n",
            "| Rekha     | Ganesan     | Director   |  60000 |\n",
            "| Narayan   | Karthikeyan | Secretary  |  40000 |\n",
            "| Sania     | Mirza       | Cus_Rep    |  25000 |\n",
            "+-----------+-------------+------------+--------+\n"
          ]
        }
      ]
    },
    {
      "cell_type": "code",
      "source": [
        "!mysql Soumo_DB -e 'select firstname,lastname,jobdesc from empl where jobdesc=\"Clerk\"';"
      ],
      "metadata": {
        "colab": {
          "base_uri": "https://localhost:8080/"
        },
        "id": "GZWKhR5SorOU",
        "outputId": "cd1db0e1-125b-40a7-8861-f7c9a20f2335"
      },
      "execution_count": 34,
      "outputs": [
        {
          "output_type": "stream",
          "name": "stdout",
          "text": [
            "+-----------+----------+---------+\n",
            "| firstname | lastname | jobdesc |\n",
            "+-----------+----------+---------+\n",
            "| Madhuri   | Dikshit  | Clerk   |\n",
            "| Mahender  | Dhoni    | Clerk   |\n",
            "| Jagmohan  | Dalmia   | Clerk   |\n",
            "+-----------+----------+---------+\n"
          ]
        }
      ]
    },
    {
      "cell_type": "code",
      "source": [
        "!mysql Soumo_DB -e 'select firstname,jobdesc from empl where lastname like \"D%\"';"
      ],
      "metadata": {
        "colab": {
          "base_uri": "https://localhost:8080/"
        },
        "id": "cUAUKf14n9ip",
        "outputId": "f0e1958e-b7f8-4ba8-e68e-3ce7e8294323"
      },
      "execution_count": 32,
      "outputs": [
        {
          "output_type": "stream",
          "name": "stdout",
          "text": [
            "+-----------+------------+\n",
            "| firstname | jobdesc    |\n",
            "+-----------+------------+\n",
            "| Madhuri   | Clerk      |\n",
            "| Mahender  | Clerk      |\n",
            "| Rahul     | Sr Manager |\n",
            "| Jagmohan  | Clerk      |\n",
            "+-----------+------------+\n"
          ]
        }
      ]
    },
    {
      "cell_type": "code",
      "source": [
        "!mysql Soumo_DB -e 'select firstname,lastname,jobdesc from empl where lastname like \"____i_\"';"
      ],
      "metadata": {
        "colab": {
          "base_uri": "https://localhost:8080/"
        },
        "id": "hkpYjuProKyv",
        "outputId": "355bb9b6-e0fe-4cac-ccad-54aa2f553960"
      },
      "execution_count": 36,
      "outputs": [
        {
          "output_type": "stream",
          "name": "stdout",
          "text": [
            "+-----------+----------+------------+\n",
            "| firstname | lastname | jobdesc    |\n",
            "+-----------+----------+------------+\n",
            "| Rahul     | Dravid   | Sr Manager |\n",
            "| Jagmohan  | Dalmia   | Clerk      |\n",
            "+-----------+----------+------------+\n"
          ]
        }
      ]
    },
    {
      "cell_type": "code",
      "source": [
        "!mysql Soumo_DB -e 'select firstname,lastname,jobdesc from empl where lastname like \"____i%\"';"
      ],
      "metadata": {
        "colab": {
          "base_uri": "https://localhost:8080/"
        },
        "id": "LXairefoo8yp",
        "outputId": "03083163-91bb-4fa9-e4fc-f1768f6e8532"
      },
      "execution_count": 38,
      "outputs": [
        {
          "output_type": "stream",
          "name": "stdout",
          "text": [
            "+-----------+----------+------------+\n",
            "| firstname | lastname | jobdesc    |\n",
            "+-----------+----------+------------+\n",
            "| Mahender  | Dhoni    | Clerk      |\n",
            "| Rahul     | Dravid   | Sr Manager |\n",
            "| Jagmohan  | Dalmia   | Clerk      |\n",
            "+-----------+----------+------------+\n"
          ]
        }
      ]
    },
    {
      "cell_type": "code",
      "source": [
        "!mysql Soumo_DB -e 'select firstname,lastname,jobdesc,salary from empl where salary between 10000 and 30000';"
      ],
      "metadata": {
        "colab": {
          "base_uri": "https://localhost:8080/"
        },
        "id": "w-DLjSdupEir",
        "outputId": "badfa64b-a2d5-4e7d-d42f-f25aff17b55a"
      },
      "execution_count": 39,
      "outputs": [
        {
          "output_type": "stream",
          "name": "stdout",
          "text": [
            "+-----------+-----------+---------+--------+\n",
            "| firstname | lastname  | jobdesc | salary |\n",
            "+-----------+-----------+---------+--------+\n",
            "| Rani      | Mukherjee | Manager |  25000 |\n",
            "| Madhuri   | Dikshit   | Clerk   |  10000 |\n",
            "| Shahrukh  | Khan      | Manager |  30000 |\n",
            "| Virender  | Sehwag    | Cus_Rep |  15000 |\n",
            "| Jagmohan  | Dalmia    | Clerk   |  12000 |\n",
            "| Sourav    | Ganguly   | Cus_Rep |  20000 |\n",
            "| Sania     | Mirza     | Cus_Rep |  25000 |\n",
            "+-----------+-----------+---------+--------+\n"
          ]
        }
      ]
    },
    {
      "cell_type": "code",
      "source": [
        "!mysql Soumo_DB -e 'select firstname,lastname,jobdesc,deptid from empl where deptid in (\"40\",\"20\",\"30\")';"
      ],
      "metadata": {
        "colab": {
          "base_uri": "https://localhost:8080/"
        },
        "id": "7sbTk7IppU-0",
        "outputId": "d581322f-690b-4802-da9d-cb1db87817a0"
      },
      "execution_count": 43,
      "outputs": [
        {
          "output_type": "stream",
          "name": "stdout",
          "text": [
            "+-----------+-----------+------------+--------+\n",
            "| firstname | lastname  | jobdesc    | deptid |\n",
            "+-----------+-----------+------------+--------+\n",
            "| Rani      | Mukherjee | Manager    | 40     |\n",
            "| Madhuri   | Dikshit   | Clerk      | 20     |\n",
            "| Shahrukh  | Khan      | Manager    | 20     |\n",
            "| Virender  | Sehwag    | Cus_Rep    | 20     |\n",
            "| Mahender  | Dhoni     | Clerk      | 40     |\n",
            "| Rahul     | Dravid    | Sr Manager | 30     |\n",
            "| Jagmohan  | Dalmia    | Clerk      | 30     |\n",
            "| Sourav    | Ganguly   | Cus_Rep    | 40     |\n",
            "| Sania     | Mirza     | Cus_Rep    | 30     |\n",
            "+-----------+-----------+------------+--------+\n"
          ]
        }
      ]
    },
    {
      "cell_type": "code",
      "source": [
        "!mysql Soumo_DB -e 'select joindate,firstname,lastname,jobdesc,salary from empl order by joindate';"
      ],
      "metadata": {
        "colab": {
          "base_uri": "https://localhost:8080/"
        },
        "id": "z8NWdfytpnyX",
        "outputId": "016d3b80-31ce-4d96-f42d-db061c947a45"
      },
      "execution_count": 45,
      "outputs": [
        {
          "output_type": "stream",
          "name": "stdout",
          "text": [
            "+------------+-----------+-------------+------------+--------+\n",
            "| joindate   | firstname | lastname    | jobdesc    | salary |\n",
            "+------------+-----------+-------------+------------+--------+\n",
            "| 2000-06-04 | Rahul     | Dravid      | Sr Manager |  40000 |\n",
            "| 2001-07-01 | Jagmohan  | Dalmia      | Clerk      |  12000 |\n",
            "| 2001-11-19 | Sania     | Mirza       | Cus_Rep    |  25000 |\n",
            "| 2002-01-01 | Sourav    | Ganguly     | Cus_Rep    |  20000 |\n",
            "| 2002-04-04 | Madhuri   | Dikshit     | Clerk      |  10000 |\n",
            "| 2002-10-10 | Rekha     | Ganesan     | Director   |  60000 |\n",
            "| 2003-03-10 | Amitabh   | Bacchan     | Executive  |  50000 |\n",
            "| 2004-01-03 | Shahrukh  | Khan        | Manager    |  30000 |\n",
            "| 2004-10-09 | Mahender  | Dhoni       | Clerk      |   9000 |\n",
            "| 2005-01-02 | Virender  | Sehwag      | Cus_Rep    |  15000 |\n",
            "| 2005-05-04 | Rani      | Mukherjee   | Manager    |  25000 |\n",
            "| 2005-12-04 | Narayan   | Karthikeyan | Secretary  |  40000 |\n",
            "+------------+-----------+-------------+------------+--------+\n"
          ]
        }
      ]
    },
    {
      "cell_type": "code",
      "source": [
        "!mysql Soumo_DB -e 'select firstname,lastname,jobdesc,deptid from empl where deptid in (\"40\",\"20\",\"30\") order by deptid';"
      ],
      "metadata": {
        "colab": {
          "base_uri": "https://localhost:8080/"
        },
        "id": "tQ7NWFdNqAJO",
        "outputId": "766fb9ce-e08b-4742-f01d-44ebb43b3b2a"
      },
      "execution_count": 46,
      "outputs": [
        {
          "output_type": "stream",
          "name": "stdout",
          "text": [
            "+-----------+-----------+------------+--------+\n",
            "| firstname | lastname  | jobdesc    | deptid |\n",
            "+-----------+-----------+------------+--------+\n",
            "| Madhuri   | Dikshit   | Clerk      | 20     |\n",
            "| Shahrukh  | Khan      | Manager    | 20     |\n",
            "| Virender  | Sehwag    | Cus_Rep    | 20     |\n",
            "| Rahul     | Dravid    | Sr Manager | 30     |\n",
            "| Jagmohan  | Dalmia    | Clerk      | 30     |\n",
            "| Sania     | Mirza     | Cus_Rep    | 30     |\n",
            "| Rani      | Mukherjee | Manager    | 40     |\n",
            "| Mahender  | Dhoni     | Clerk      | 40     |\n",
            "| Sourav    | Ganguly   | Cus_Rep    | 40     |\n",
            "+-----------+-----------+------------+--------+\n"
          ]
        }
      ]
    },
    {
      "cell_type": "code",
      "source": [
        "!mysql Soumo_DB -e 'select firstname,lastname,jobdesc,deptid from empl where deptid=\"20\" and salary>10000';"
      ],
      "metadata": {
        "colab": {
          "base_uri": "https://localhost:8080/"
        },
        "id": "VHLWTo4IqM0i",
        "outputId": "673fd002-571f-4295-fbe7-b4d293fd49bb"
      },
      "execution_count": 47,
      "outputs": [
        {
          "output_type": "stream",
          "name": "stdout",
          "text": [
            "+-----------+----------+---------+--------+\n",
            "| firstname | lastname | jobdesc | deptid |\n",
            "+-----------+----------+---------+--------+\n",
            "| Shahrukh  | Khan     | Manager | 20     |\n",
            "| Virender  | Sehwag   | Cus_Rep | 20     |\n",
            "+-----------+----------+---------+--------+\n"
          ]
        }
      ]
    },
    {
      "cell_type": "code",
      "source": [
        "!mysql Soumo_DB -e 'select firstname,lastname,jobdesc,deptid from empl where deptid=\"20\" and salary>10000 and jobdesc=\"Clerk\"';"
      ],
      "metadata": {
        "id": "L6Ec2UPQqcew"
      },
      "execution_count": 50,
      "outputs": []
    },
    {
      "cell_type": "code",
      "source": [
        "!mysql Soumo_DB -e 'select firstname,lastname,jobdesc from empl where jobdesc like \"%Manager\" or salary>25000';"
      ],
      "metadata": {
        "colab": {
          "base_uri": "https://localhost:8080/"
        },
        "id": "o_xq8Nsgqlck",
        "outputId": "3c6719e0-01ab-4829-c03f-6ad670d31d18"
      },
      "execution_count": 53,
      "outputs": [
        {
          "output_type": "stream",
          "name": "stdout",
          "text": [
            "+-----------+-------------+------------+\n",
            "| firstname | lastname    | jobdesc    |\n",
            "+-----------+-------------+------------+\n",
            "| Amitabh   | Bacchan     | Executive  |\n",
            "| Rani      | Mukherjee   | Manager    |\n",
            "| Shahrukh  | Khan        | Manager    |\n",
            "| Rahul     | Dravid      | Sr Manager |\n",
            "| Rekha     | Ganesan     | Director   |\n",
            "| Narayan   | Karthikeyan | Secretary  |\n",
            "+-----------+-------------+------------+\n"
          ]
        }
      ]
    },
    {
      "cell_type": "code",
      "source": [
        "!mysql Soumo_DB -e 'select firstname,lastname,jobdesc from empl where jobdesc like \"%Manager\" or salary>25000 or firstname=\"Madhuri\"';"
      ],
      "metadata": {
        "colab": {
          "base_uri": "https://localhost:8080/"
        },
        "id": "1iaK8a2equzB",
        "outputId": "eab89c4f-f260-4ec0-9099-88488ba44dd2"
      },
      "execution_count": 54,
      "outputs": [
        {
          "output_type": "stream",
          "name": "stdout",
          "text": [
            "+-----------+-------------+------------+\n",
            "| firstname | lastname    | jobdesc    |\n",
            "+-----------+-------------+------------+\n",
            "| Amitabh   | Bacchan     | Executive  |\n",
            "| Rani      | Mukherjee   | Manager    |\n",
            "| Madhuri   | Dikshit     | Clerk      |\n",
            "| Shahrukh  | Khan        | Manager    |\n",
            "| Rahul     | Dravid      | Sr Manager |\n",
            "| Rekha     | Ganesan     | Director   |\n",
            "| Narayan   | Karthikeyan | Secretary  |\n",
            "+-----------+-------------+------------+\n"
          ]
        }
      ]
    },
    {
      "cell_type": "code",
      "source": [
        "!mysql Soumo_DB -e 'select firstname,lastname,jobdesc from empl where jobdesc like \"%Manager\" or jobdesc like \"%Cus_rep\" or salary<16000';"
      ],
      "metadata": {
        "colab": {
          "base_uri": "https://localhost:8080/"
        },
        "id": "03Z42hwtrKcb",
        "outputId": "760a0c8d-08f4-48a7-84b9-20c325ff9849"
      },
      "execution_count": 55,
      "outputs": [
        {
          "output_type": "stream",
          "name": "stdout",
          "text": [
            "+-----------+-----------+------------+\n",
            "| firstname | lastname  | jobdesc    |\n",
            "+-----------+-----------+------------+\n",
            "| Rani      | Mukherjee | Manager    |\n",
            "| Madhuri   | Dikshit   | Clerk      |\n",
            "| Shahrukh  | Khan      | Manager    |\n",
            "| Virender  | Sehwag    | Cus_Rep    |\n",
            "| Mahender  | Dhoni     | Clerk      |\n",
            "| Rahul     | Dravid    | Sr Manager |\n",
            "| Jagmohan  | Dalmia    | Clerk      |\n",
            "| Sourav    | Ganguly   | Cus_Rep    |\n",
            "| Sania     | Mirza     | Cus_Rep    |\n",
            "+-----------+-----------+------------+\n"
          ]
        }
      ]
    },
    {
      "cell_type": "code",
      "source": [
        "!mysql Soumo_DB -e 'select firstname,lastname,jobdesc from empl where (jobdesc like \"%Manager\" or jobdesc like \"%Cus_rep\") or salary<16000';"
      ],
      "metadata": {
        "colab": {
          "base_uri": "https://localhost:8080/"
        },
        "id": "-9tLSAJVrkXp",
        "outputId": "dd97916e-6142-4115-866d-1006dae2e740"
      },
      "execution_count": 56,
      "outputs": [
        {
          "output_type": "stream",
          "name": "stdout",
          "text": [
            "+-----------+-----------+------------+\n",
            "| firstname | lastname  | jobdesc    |\n",
            "+-----------+-----------+------------+\n",
            "| Rani      | Mukherjee | Manager    |\n",
            "| Madhuri   | Dikshit   | Clerk      |\n",
            "| Shahrukh  | Khan      | Manager    |\n",
            "| Virender  | Sehwag    | Cus_Rep    |\n",
            "| Mahender  | Dhoni     | Clerk      |\n",
            "| Rahul     | Dravid    | Sr Manager |\n",
            "| Jagmohan  | Dalmia    | Clerk      |\n",
            "| Sourav    | Ganguly   | Cus_Rep    |\n",
            "| Sania     | Mirza     | Cus_Rep    |\n",
            "+-----------+-----------+------------+\n"
          ]
        }
      ]
    },
    {
      "cell_type": "markdown",
      "source": [
        "# f"
      ],
      "metadata": {
        "id": "u6NvqP-4r9px"
      }
    },
    {
      "cell_type": "code",
      "source": [
        "!mysql Soumo_DB -e 'select empid,salary,comm,salary+comm*salary from empl where deptid=30';"
      ],
      "metadata": {
        "colab": {
          "base_uri": "https://localhost:8080/"
        },
        "id": "fZw1MqzprwCc",
        "outputId": "0f39959b-1201-454e-826e-58c33f240e52"
      },
      "execution_count": 57,
      "outputs": [
        {
          "output_type": "stream",
          "name": "stdout",
          "text": [
            "+--------+--------+------+--------------------+\n",
            "| empid  | salary | comm | salary+comm*salary |\n",
            "+--------+--------+------+--------------------+\n",
            "| 822134 |  40000 | 0.08 |           43200.00 |\n",
            "| 997445 |  12000 | 0.02 |           12240.00 |\n",
            "| 223112 |  25000 | 0.04 |           26000.00 |\n",
            "+--------+--------+------+--------------------+\n"
          ]
        }
      ]
    },
    {
      "cell_type": "code",
      "source": [
        "!mysql Soumo_DB -e 'select concat(\"Mr\",substring(firstname,1,1),lastname) from empl where empid=742866';"
      ],
      "metadata": {
        "colab": {
          "base_uri": "https://localhost:8080/"
        },
        "id": "y3e-0sUbsedm",
        "outputId": "47a8f942-9a58-4efa-f58b-63742e7a2fc0"
      },
      "execution_count": 59,
      "outputs": [
        {
          "output_type": "stream",
          "name": "stdout",
          "text": [
            "+------------------------------------------------+\n",
            "| concat(\"Mr\",substring(firstname,1,1),lastname) |\n",
            "+------------------------------------------------+\n",
            "| MrABacchan                                     |\n",
            "+------------------------------------------------+\n"
          ]
        }
      ]
    },
    {
      "cell_type": "code",
      "source": [
        "!mysql Soumo_DB -e 'select sum(salary) from empl';\n",
        "!mysql Soumo_DB -e 'select avg(salary) from empl';\n",
        "!mysql Soumo_DB -e 'select min(salary) from empl';\n",
        "!mysql Soumo_DB -e 'select max(salary) from empl';\n",
        "!mysql Soumo_DB -e 'select count(salary) from empl';"
      ],
      "metadata": {
        "colab": {
          "base_uri": "https://localhost:8080/"
        },
        "id": "jHyq1rcFtO8a",
        "outputId": "d960d838-531b-4465-86f5-eaa9425faf3f"
      },
      "execution_count": 60,
      "outputs": [
        {
          "output_type": "stream",
          "name": "stdout",
          "text": [
            "+-------------+\n",
            "| sum(salary) |\n",
            "+-------------+\n",
            "|      336000 |\n",
            "+-------------+\n",
            "+-------------+\n",
            "| avg(salary) |\n",
            "+-------------+\n",
            "|  28000.0000 |\n",
            "+-------------+\n",
            "+-------------+\n",
            "| min(salary) |\n",
            "+-------------+\n",
            "|        9000 |\n",
            "+-------------+\n",
            "+-------------+\n",
            "| max(salary) |\n",
            "+-------------+\n",
            "|       60000 |\n",
            "+-------------+\n",
            "+---------------+\n",
            "| count(salary) |\n",
            "+---------------+\n",
            "|            12 |\n",
            "+---------------+\n"
          ]
        }
      ]
    },
    {
      "cell_type": "code",
      "source": [
        "!mysql Soumo_DB -e 'select deptid,sum(salary) from empl group by deptid';"
      ],
      "metadata": {
        "colab": {
          "base_uri": "https://localhost:8080/"
        },
        "id": "-bhO06iKtokp",
        "outputId": "2b3b0de5-8fa6-4ca8-8319-f0ee7daa12b0"
      },
      "execution_count": 61,
      "outputs": [
        {
          "output_type": "stream",
          "name": "stdout",
          "text": [
            "+--------+-------------+\n",
            "| deptid | sum(salary) |\n",
            "+--------+-------------+\n",
            "| 10     |      150000 |\n",
            "| 20     |       55000 |\n",
            "| 30     |       77000 |\n",
            "| 40     |       54000 |\n",
            "+--------+-------------+\n"
          ]
        }
      ]
    },
    {
      "cell_type": "code",
      "source": [
        "!mysql Soumo_DB -e 'select deptid,sum(salary) from empl group by deptid having sum(salary)>100000';"
      ],
      "metadata": {
        "colab": {
          "base_uri": "https://localhost:8080/"
        },
        "id": "ipw21GadtzMA",
        "outputId": "a1c6f514-2a0e-4c44-fb7c-e09490579399"
      },
      "execution_count": 63,
      "outputs": [
        {
          "output_type": "stream",
          "name": "stdout",
          "text": [
            "+--------+-------------+\n",
            "| deptid | sum(salary) |\n",
            "+--------+-------------+\n",
            "| 10     |      150000 |\n",
            "+--------+-------------+\n"
          ]
        }
      ]
    },
    {
      "cell_type": "code",
      "source": [
        "!mysql Soumo_DB -e 'select empid,lastname,current_date(),joindate,date_format(joindate,\"%d%m%y\") as joindate2,datediff(current_date(),joindate) as days_since from empl';"
      ],
      "metadata": {
        "colab": {
          "base_uri": "https://localhost:8080/"
        },
        "id": "kiRxi-5Pt6kq",
        "outputId": "f6f10cd9-67fe-42e8-ef15-ea717b53955c"
      },
      "execution_count": 65,
      "outputs": [
        {
          "output_type": "stream",
          "name": "stdout",
          "text": [
            "+--------+-------------+----------------+------------+-----------+------------+\n",
            "| empid  | lastname    | current_date() | joindate   | joindate2 | days_since |\n",
            "+--------+-------------+----------------+------------+-----------+------------+\n",
            "| 742866 | Bacchan     | 2022-09-03     | 2003-03-10 | 100303    |       7117 |\n",
            "| 349870 | Mukherjee   | 2022-09-03     | 2005-05-04 | 040505    |       6331 |\n",
            "| 865477 | Dikshit     | 2022-09-03     | 2002-04-04 | 040402    |       7457 |\n",
            "| 239456 | Khan        | 2022-09-03     | 2004-01-03 | 030104    |       6818 |\n",
            "| 897889 | Sehwag      | 2022-09-03     | 2005-01-02 | 020105    |       6453 |\n",
            "| 123980 | Dhoni       | 2022-09-03     | 2004-10-09 | 091004    |       6538 |\n",
            "| 822134 | Dravid      | 2022-09-03     | 2000-06-04 | 040600    |       8126 |\n",
            "| 997445 | Dalmia      | 2022-09-03     | 2001-07-01 | 010701    |       7734 |\n",
            "| 989007 | Ganguly     | 2022-09-03     | 2002-01-01 | 010102    |       7550 |\n",
            "| 299034 | Ganesan     | 2022-09-03     | 2002-10-10 | 101002    |       7268 |\n",
            "| 546223 | Karthikeyan | 2022-09-03     | 2005-12-04 | 041205    |       6117 |\n",
            "| 223112 | Mirza       | 2022-09-03     | 2001-11-19 | 191101    |       7593 |\n",
            "+--------+-------------+----------------+------------+-----------+------------+\n"
          ]
        }
      ]
    },
    {
      "cell_type": "code",
      "source": [
        "!mysql Soumo_DB -e 'update dept set managerid=123456 where deptid=40';"
      ],
      "metadata": {
        "id": "QqO-5BdAu_-J"
      },
      "execution_count": 68,
      "outputs": []
    },
    {
      "cell_type": "code",
      "source": [
        "!mysql Soumo_DB -e 'select empid,firstname,lastname from empl,dept where empl.deptid=dept.deptid';"
      ],
      "metadata": {
        "colab": {
          "base_uri": "https://localhost:8080/"
        },
        "id": "5k0BtrCXvfKc",
        "outputId": "ca6298b7-c697-4c77-9185-d30c15c78c84"
      },
      "execution_count": 69,
      "outputs": [
        {
          "output_type": "stream",
          "name": "stdout",
          "text": [
            "+--------+-----------+-------------+\n",
            "| empid  | firstname | lastname    |\n",
            "+--------+-----------+-------------+\n",
            "| 742866 | Amitabh   | Bacchan     |\n",
            "| 349870 | Rani      | Mukherjee   |\n",
            "| 865477 | Madhuri   | Dikshit     |\n",
            "| 239456 | Shahrukh  | Khan        |\n",
            "| 897889 | Virender  | Sehwag      |\n",
            "| 123980 | Mahender  | Dhoni       |\n",
            "| 822134 | Rahul     | Dravid      |\n",
            "| 997445 | Jagmohan  | Dalmia      |\n",
            "| 989007 | Sourav    | Ganguly     |\n",
            "| 299034 | Rekha     | Ganesan     |\n",
            "| 546223 | Narayan   | Karthikeyan |\n",
            "| 223112 | Sania     | Mirza       |\n",
            "+--------+-----------+-------------+\n"
          ]
        }
      ]
    },
    {
      "cell_type": "code",
      "source": [
        "!mysql Soumo_DB -e 'select lastname,jobdesc,salary, empl.deptid, round(deptavg,0) deptaverage, salary/deptavg relative from empl, ( select deptid, avg(salary) deptavg from empl group by deptid ) deptsalary where empl.deptid = deptsalary.deptid';"
      ],
      "metadata": {
        "colab": {
          "base_uri": "https://localhost:8080/"
        },
        "id": "fD8jgHcxxGyE",
        "outputId": "c47555a4-0d99-47c8-fab9-500dc134c1e7"
      },
      "execution_count": 71,
      "outputs": [
        {
          "output_type": "stream",
          "name": "stdout",
          "text": [
            "+-------------+------------+--------+--------+-------------+----------+\n",
            "| lastname    | jobdesc    | salary | deptid | deptaverage | relative |\n",
            "+-------------+------------+--------+--------+-------------+----------+\n",
            "| Bacchan     | Executive  |  50000 | 10     |       50000 |   1.0000 |\n",
            "| Mukherjee   | Manager    |  25000 | 40     |       18000 |   1.3889 |\n",
            "| Dikshit     | Clerk      |  10000 | 20     |       18333 |   0.5455 |\n",
            "| Khan        | Manager    |  30000 | 20     |       18333 |   1.6364 |\n",
            "| Sehwag      | Cus_Rep    |  15000 | 20     |       18333 |   0.8182 |\n",
            "| Dhoni       | Clerk      |   9000 | 40     |       18000 |   0.5000 |\n",
            "| Dravid      | Sr Manager |  40000 | 30     |       25667 |   1.5584 |\n",
            "| Dalmia      | Clerk      |  12000 | 30     |       25667 |   0.4675 |\n",
            "| Ganguly     | Cus_Rep    |  20000 | 40     |       18000 |   1.1111 |\n",
            "| Ganesan     | Director   |  60000 | 10     |       50000 |   1.2000 |\n",
            "| Karthikeyan | Secretary  |  40000 | 10     |       50000 |   0.8000 |\n",
            "| Mirza       | Cus_Rep    |  25000 | 30     |       25667 |   0.9740 |\n",
            "+-------------+------------+--------+--------+-------------+----------+\n"
          ]
        }
      ]
    },
    {
      "cell_type": "code",
      "source": [
        "!mysql Soumo_DB -e 'select w.lastname, w.deptid, \" => \", d.deptid ,d.managerid,\" <= \", m.empid, m.lastname from empl w, dept d, empl m where w.deptid = d.deptid  and d.managerid = m.empid';"
      ],
      "metadata": {
        "colab": {
          "base_uri": "https://localhost:8080/"
        },
        "id": "vYuhPCrCyWd5",
        "outputId": "2e83c8fa-f363-40b4-f6a7-f98a4174a70a"
      },
      "execution_count": 78,
      "outputs": [
        {
          "output_type": "stream",
          "name": "stdout",
          "text": [
            "+-------------+--------+------+--------+-----------+------+--------+----------+\n",
            "| lastname    | deptid | =>   | deptid | managerid | <=   | empid  | lastname |\n",
            "+-------------+--------+------+--------+-----------+------+--------+----------+\n",
            "| Dikshit     | 20     |  =>  | 20     | 239456    |  <=  | 239456 | Khan     |\n",
            "| Khan        | 20     |  =>  | 20     | 239456    |  <=  | 239456 | Khan     |\n",
            "| Sehwag      | 20     |  =>  | 20     | 239456    |  <=  | 239456 | Khan     |\n",
            "| Dravid      | 30     |  =>  | 30     | 822134    |  <=  | 822134 | Dravid   |\n",
            "| Dalmia      | 30     |  =>  | 30     | 822134    |  <=  | 822134 | Dravid   |\n",
            "| Mirza       | 30     |  =>  | 30     | 822134    |  <=  | 822134 | Dravid   |\n",
            "| Bacchan     | 10     |  =>  | 10     | 299034    |  <=  | 299034 | Ganesan  |\n",
            "| Ganesan     | 10     |  =>  | 10     | 299034    |  <=  | 299034 | Ganesan  |\n",
            "| Karthikeyan | 10     |  =>  | 10     | 299034    |  <=  | 299034 | Ganesan  |\n",
            "+-------------+--------+------+--------+-----------+------+--------+----------+\n"
          ]
        }
      ]
    },
    {
      "cell_type": "code",
      "source": [
        "!mysql Soumo_DB -e 'select w.lastname, w.deptid, \" == \", d.deptid ,d.managerid,\" == \", m.empid, m.lastname from empl w, dept d, empl m where w.deptid = d.deptid   and d.managerid = m.empid';"
      ],
      "metadata": {
        "colab": {
          "base_uri": "https://localhost:8080/"
        },
        "id": "cJdRJlRF1UOL",
        "outputId": "67e6bba1-9bba-4254-dc87-75d52a8364a8"
      },
      "execution_count": 103,
      "outputs": [
        {
          "output_type": "stream",
          "name": "stdout",
          "text": [
            "+-------------+--------+------+--------+-----------+------+--------+----------+\n",
            "| lastname    | deptid | ==   | deptid | managerid | ==   | empid  | lastname |\n",
            "+-------------+--------+------+--------+-----------+------+--------+----------+\n",
            "| Dikshit     | 20     |  ==  | 20     | 239456    |  ==  | 239456 | Khan     |\n",
            "| Khan        | 20     |  ==  | 20     | 239456    |  ==  | 239456 | Khan     |\n",
            "| Sehwag      | 20     |  ==  | 20     | 239456    |  ==  | 239456 | Khan     |\n",
            "| Dravid      | 30     |  ==  | 30     | 822134    |  ==  | 822134 | Dravid   |\n",
            "| Dalmia      | 30     |  ==  | 30     | 822134    |  ==  | 822134 | Dravid   |\n",
            "| Mirza       | 30     |  ==  | 30     | 822134    |  ==  | 822134 | Dravid   |\n",
            "| Bacchan     | 10     |  ==  | 10     | 299034    |  ==  | 299034 | Ganesan  |\n",
            "| Ganesan     | 10     |  ==  | 10     | 299034    |  ==  | 299034 | Ganesan  |\n",
            "| Karthikeyan | 10     |  ==  | 10     | 299034    |  ==  | 299034 | Ganesan  |\n",
            "+-------------+--------+------+--------+-----------+------+--------+----------+\n"
          ]
        }
      ]
    },
    {
      "cell_type": "markdown",
      "source": [
        "# d"
      ],
      "metadata": {
        "id": "LbmcuCbT6Xar"
      }
    },
    {
      "cell_type": "code",
      "source": [
        "!mysql Soumo_DB -e 'select lastname, salary, comm comm_rate, round(salary+salary*comm,0) as payout,  location, if(location = \"Bombay\" ,salary+salary*comm + 2000, salary+salary*comm) VarPayout from empl, dept where empl.deptid = dept.deptid'"
      ],
      "metadata": {
        "colab": {
          "base_uri": "https://localhost:8080/"
        },
        "id": "LkDU3dFv_VZ9",
        "outputId": "842c80dd-e67b-44ae-e07a-fd8c64449c00"
      },
      "execution_count": 99,
      "outputs": [
        {
          "output_type": "stream",
          "name": "stdout",
          "text": [
            "+-------------+--------+-----------+--------+----------+-----------+\n",
            "| lastname    | salary | comm_rate | payout | location | VarPayout |\n",
            "+-------------+--------+-----------+--------+----------+-----------+\n",
            "| Bacchan     |  50000 |      0.10 |  55000 | Calcutta |  55000.00 |\n",
            "| Mukherjee   |  25000 |      0.06 |  26500 | Bombay   |  28500.00 |\n",
            "| Dikshit     |  10000 |      0.02 |  10200 | Calcutta |  10200.00 |\n",
            "| Khan        |  30000 |      0.07 |  32100 | Calcutta |  32100.00 |\n",
            "| Sehwag      |  15000 |      0.05 |  15750 | Calcutta |  15750.00 |\n",
            "| Dhoni       |   9000 |      0.02 |   9180 | Bombay   |  11180.00 |\n",
            "| Dravid      |  40000 |      0.08 |  43200 | Calcutta |  43200.00 |\n",
            "| Dalmia      |  12000 |      0.02 |  12240 | Calcutta |  12240.00 |\n",
            "| Ganguly     |  20000 |      0.03 |  20600 | Bombay   |  22600.00 |\n",
            "| Ganesan     |  60000 |      0.11 |  66600 | Calcutta |  66600.00 |\n",
            "| Karthikeyan |  40000 |      0.09 |  43600 | Calcutta |  43600.00 |\n",
            "| Mirza       |  25000 |      0.04 |  26000 | Calcutta |  26000.00 |\n",
            "+-------------+--------+-----------+--------+----------+-----------+\n"
          ]
        }
      ]
    },
    {
      "cell_type": "code",
      "source": [
        "!mysql Soumo_DB -e 'select lastname, jobdesc, location,(case when location = \"Calcutta\" then \"head-office\" when location = \"Bombay\" then \"regional office\" else \"branch-office\" end) as office from empl, dept where empl.deptid = dept.deptid'"
      ],
      "metadata": {
        "colab": {
          "base_uri": "https://localhost:8080/"
        },
        "id": "1Sd3UQo8_-09",
        "outputId": "45ae5617-0e24-49db-cdf1-82b334921e47"
      },
      "execution_count": 102,
      "outputs": [
        {
          "output_type": "stream",
          "name": "stdout",
          "text": [
            "+-------------+------------+----------+-----------------+\n",
            "| lastname    | jobdesc    | location | office          |\n",
            "+-------------+------------+----------+-----------------+\n",
            "| Bacchan     | Executive  | Calcutta | head-office     |\n",
            "| Mukherjee   | Manager    | Bombay   | regional office |\n",
            "| Dikshit     | Clerk      | Calcutta | head-office     |\n",
            "| Khan        | Manager    | Calcutta | head-office     |\n",
            "| Sehwag      | Cus_Rep    | Calcutta | head-office     |\n",
            "| Dhoni       | Clerk      | Bombay   | regional office |\n",
            "| Dravid      | Sr Manager | Calcutta | head-office     |\n",
            "| Dalmia      | Clerk      | Calcutta | head-office     |\n",
            "| Ganguly     | Cus_Rep    | Bombay   | regional office |\n",
            "| Ganesan     | Director   | Calcutta | head-office     |\n",
            "| Karthikeyan | Secretary  | Calcutta | head-office     |\n",
            "| Mirza       | Cus_Rep    | Calcutta | head-office     |\n",
            "+-------------+------------+----------+-----------------+\n"
          ]
        }
      ]
    },
    {
      "cell_type": "code",
      "source": [],
      "metadata": {
        "id": "_kCaT-WtzWdr"
      },
      "execution_count": null,
      "outputs": []
    }
  ]
}