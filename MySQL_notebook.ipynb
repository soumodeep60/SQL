{
  "nbformat": 4,
  "nbformat_minor": 0,
  "metadata": {
    "colab": {
      "name": "MySQL notebook",
      "provenance": [],
      "authorship_tag": "ABX9TyM71ihxdKOEk8RK461QOdMg",
      "include_colab_link": true
    },
    "kernelspec": {
      "name": "python3",
      "display_name": "Python 3"
    },
    "language_info": {
      "name": "python"
    }
  },
  "cells": [
    {
      "cell_type": "markdown",
      "metadata": {
        "id": "view-in-github",
        "colab_type": "text"
      },
      "source": [
        "<a href=\"https://colab.research.google.com/github/soumodeep60/SQL/blob/main/MySQL_notebook.ipynb\" target=\"_parent\"><img src=\"https://colab.research.google.com/assets/colab-badge.svg\" alt=\"Open In Colab\"/></a>"
      ]
    },
    {
      "cell_type": "markdown",
      "source": [
        "**MySQL working**"
      ],
      "metadata": {
        "id": "nYCPVxtLHIUU"
      }
    },
    {
      "cell_type": "markdown",
      "source": [
        "Data base is stored in authors drive\\\n",
        "Author- Soumodeep Das\\\n",
        "*soumodeep.das@praxis.ac.in*\n",
        "\n",
        "View other works on GitHub: *https://github.com/soumodeep60*\n"
      ],
      "metadata": {
        "id": "ByO4VaZ5HR2S"
      }
    },
    {
      "cell_type": "markdown",
      "source": [
        "* Install MySQL server\n",
        "* Loading data base"
      ],
      "metadata": {
        "id": "AFPTU8RYHno0"
      }
    },
    {
      "cell_type": "code",
      "execution_count": null,
      "metadata": {
        "id": "gC20pF0h3r3H"
      },
      "outputs": [],
      "source": [
        "!apt-get update > null\n",
        "!apt-get -y install mysql-server > null"
      ]
    },
    {
      "cell_type": "code",
      "source": [
        "!/etc/init.d/mysql restart"
      ],
      "metadata": {
        "colab": {
          "base_uri": "https://localhost:8080/"
        },
        "id": "XjaOMEHu4X1w",
        "outputId": "72495d31-a9cc-4437-d719-cbdbc72f4377"
      },
      "execution_count": null,
      "outputs": [
        {
          "output_type": "stream",
          "name": "stdout",
          "text": [
            " * Stopping MySQL database server mysqld\n",
            "   ...done.\n",
            " * Starting MySQL database server mysqld\n",
            "No directory, logging in with HOME=/\n",
            "   ...done.\n"
          ]
        }
      ]
    },
    {
      "cell_type": "code",
      "source": [
        "!mysql --version"
      ],
      "metadata": {
        "colab": {
          "base_uri": "https://localhost:8080/"
        },
        "id": "HYL2x52e5_w0",
        "outputId": "e09cd53d-8229-40e0-fe84-c2209ef4135e"
      },
      "execution_count": null,
      "outputs": [
        {
          "output_type": "stream",
          "name": "stdout",
          "text": [
            "mysql  Ver 14.14 Distrib 5.7.39, for Linux (x86_64) using  EditLine wrapper\n"
          ]
        }
      ]
    },
    {
      "cell_type": "markdown",
      "source": [
        "Creating database as Soumo_DB"
      ],
      "metadata": {
        "id": "iZgExfkhIab-"
      }
    },
    {
      "cell_type": "code",
      "source": [
        "!mysql -e 'create database Soumo_DB'"
      ],
      "metadata": {
        "id": "IlOHGWnC6Aep"
      },
      "execution_count": null,
      "outputs": []
    },
    {
      "cell_type": "code",
      "source": [
        "!mysql -e 'show databases'"
      ],
      "metadata": {
        "colab": {
          "base_uri": "https://localhost:8080/"
        },
        "id": "zLKpO5KN6Q3U",
        "outputId": "5ea2b195-f78e-413d-a81b-d0731b66f69f"
      },
      "execution_count": null,
      "outputs": [
        {
          "output_type": "stream",
          "name": "stdout",
          "text": [
            "+--------------------+\n",
            "| Database           |\n",
            "+--------------------+\n",
            "| information_schema |\n",
            "| Soumo_DB           |\n",
            "| mysql              |\n",
            "| performance_schema |\n",
            "| sys                |\n",
            "+--------------------+\n"
          ]
        }
      ]
    },
    {
      "cell_type": "markdown",
      "source": [
        "We are using !gdown function to download the data base directly from the link"
      ],
      "metadata": {
        "id": "yqTj78OdH2bD"
      }
    },
    {
      "cell_type": "code",
      "source": [
        "!gdown  https://drive.google.com/uc?id=1rCDmfQ2Mjc5_s6BwRrd7EV9AxbGEnK0s\n",
        "!gdown  https://drive.google.com/uc?id=11hvDdwhPpa9D7UcAFiKQ0xZz2A-gy6IE"
      ],
      "metadata": {
        "colab": {
          "base_uri": "https://localhost:8080/"
        },
        "id": "MLdtaS6J6UuH",
        "outputId": "95210bf8-ac01-435f-d02c-412a276701eb"
      },
      "execution_count": null,
      "outputs": [
        {
          "output_type": "stream",
          "name": "stdout",
          "text": [
            "Downloading...\n",
            "From: https://drive.google.com/uc?id=1rCDmfQ2Mjc5_s6BwRrd7EV9AxbGEnK0s\n",
            "To: /content/emp.csv\n",
            "100% 734/734 [00:00<00:00, 490kB/s]\n",
            "Downloading...\n",
            "From: https://drive.google.com/uc?id=11hvDdwhPpa9D7UcAFiKQ0xZz2A-gy6IE\n",
            "To: /content/dept.csv\n",
            "100% 148/148 [00:00<00:00, 163kB/s]\n"
          ]
        }
      ]
    },
    {
      "cell_type": "code",
      "source": [
        "!ls"
      ],
      "metadata": {
        "colab": {
          "base_uri": "https://localhost:8080/"
        },
        "id": "65dBQpGR63lf",
        "outputId": "d9e6c6a1-6e49-4eac-fa04-7373afb53866"
      },
      "execution_count": null,
      "outputs": [
        {
          "output_type": "stream",
          "name": "stdout",
          "text": [
            "dept.csv  emp.csv  null  sample_data\n"
          ]
        }
      ]
    },
    {
      "cell_type": "code",
      "source": [
        "!mysql Soumo_DB -e 'drop table empl'\n",
        "!mysql Soumo_DB -e 'create table empl (empid char(6),lastname varchar(20), firstname varchar(20), jobdesc varchar(10), joindate date, salary int, comm decimal(3,2), deptid char(2));'\n",
        "!mysql Soumo_DB -e 'drop table dept'\n",
        "!mysql Soumo_DB -e 'create table dept (deptid char(2),deptname varchar(20), managerid char(6), location varchar(10));'"
      ],
      "metadata": {
        "colab": {
          "base_uri": "https://localhost:8080/"
        },
        "id": "iDnRgiFv6-s0",
        "outputId": "7844e68e-97dd-48af-cdf8-3ce31a76e93d"
      },
      "execution_count": null,
      "outputs": [
        {
          "output_type": "stream",
          "name": "stdout",
          "text": [
            "ERROR 1051 (42S02) at line 1: Unknown table 'Soumo_DB.empl'\n",
            "ERROR 1051 (42S02) at line 1: Unknown table 'Soumo_DB.dept'\n"
          ]
        }
      ]
    },
    {
      "cell_type": "code",
      "source": [
        "!mysql Soumo_DB -e 'desc empl'\n",
        "!mysql Soumo_DB -e 'desc dept'"
      ],
      "metadata": {
        "id": "J8KwA0zF7iLR",
        "colab": {
          "base_uri": "https://localhost:8080/"
        },
        "outputId": "65d18501-50ec-43fd-df4c-d72c0b6ea5e7"
      },
      "execution_count": null,
      "outputs": [
        {
          "output_type": "stream",
          "name": "stdout",
          "text": [
            "+-----------+--------------+------+-----+---------+-------+\n",
            "| Field     | Type         | Null | Key | Default | Extra |\n",
            "+-----------+--------------+------+-----+---------+-------+\n",
            "| empid     | char(6)      | YES  |     | NULL    |       |\n",
            "| lastname  | varchar(20)  | YES  |     | NULL    |       |\n",
            "| firstname | varchar(20)  | YES  |     | NULL    |       |\n",
            "| jobdesc   | varchar(10)  | YES  |     | NULL    |       |\n",
            "| joindate  | date         | YES  |     | NULL    |       |\n",
            "| salary    | int(11)      | YES  |     | NULL    |       |\n",
            "| comm      | decimal(3,2) | YES  |     | NULL    |       |\n",
            "| deptid    | char(2)      | YES  |     | NULL    |       |\n",
            "+-----------+--------------+------+-----+---------+-------+\n",
            "+-----------+-------------+------+-----+---------+-------+\n",
            "| Field     | Type        | Null | Key | Default | Extra |\n",
            "+-----------+-------------+------+-----+---------+-------+\n",
            "| deptid    | char(2)     | YES  |     | NULL    |       |\n",
            "| deptname  | varchar(20) | YES  |     | NULL    |       |\n",
            "| managerid | char(6)     | YES  |     | NULL    |       |\n",
            "| location  | varchar(10) | YES  |     | NULL    |       |\n",
            "+-----------+-------------+------+-----+---------+-------+\n"
          ]
        }
      ]
    },
    {
      "cell_type": "code",
      "source": [
        "!mysql Soumo_DB -e \"LOAD DATA LOCAL INFILE 'emp.csv' INTO TABLE empl FIELDS TERMINATED BY ',' IGNORE 1 LINES;\""
      ],
      "metadata": {
        "id": "XSJosn4PjHi7"
      },
      "execution_count": null,
      "outputs": []
    },
    {
      "cell_type": "code",
      "source": [
        "!mysql Soumo_DB -e \"LOAD DATA LOCAL INFILE 'dept.csv' INTO TABLE dept FIELDS TERMINATED BY ',' LINES TERMINATED BY '\\r\\n'  IGNORE 1 LINES;\""
      ],
      "metadata": {
        "id": "vTe_iej5j5Qf"
      },
      "execution_count": null,
      "outputs": []
    },
    {
      "cell_type": "markdown",
      "source": [
        "**Employee** **table**:"
      ],
      "metadata": {
        "id": "-B4xgHMNVCoC"
      }
    },
    {
      "cell_type": "code",
      "source": [
        "!mysql Soumo_DB -e 'select * from empl'"
      ],
      "metadata": {
        "colab": {
          "base_uri": "https://localhost:8080/"
        },
        "id": "g7-5B2TXj-__",
        "outputId": "b8553bf4-c8d2-49e7-bfd7-2ccc51f6047e"
      },
      "execution_count": null,
      "outputs": [
        {
          "output_type": "stream",
          "name": "stdout",
          "text": [
            "+--------+-------------+-----------+------------+------------+--------+------+--------+\n",
            "| empid  | lastname    | firstname | jobdesc    | joindate   | salary | comm | deptid |\n",
            "+--------+-------------+-----------+------------+------------+--------+------+--------+\n",
            "| 742866 | Bacchan     | Amitabh   | Executive  | 2003-03-10 |  50000 | 0.10 | 10     |\n",
            "| 349870 | Mukherjee   | Rani      | Manager    | 2005-05-04 |  25000 | 0.06 | 40     |\n",
            "| 865477 | Dikshit     | Madhuri   | Clerk      | 2002-04-04 |  10000 | 0.02 | 20     |\n",
            "| 239456 | Khan        | Shahrukh  | Manager    | 2004-01-03 |  30000 | 0.07 | 20     |\n",
            "| 897889 | Sehwag      | Virender  | Cus_Rep    | 2005-01-02 |  15000 | 0.05 | 20     |\n",
            "| 123980 | Dhoni       | Mahender  | Clerk      | 2004-10-09 |   9000 | 0.02 | 40     |\n",
            "| 822134 | Dravid      | Rahul     | Sr Manager | 2000-06-04 |  40000 | 0.08 | 30     |\n",
            "| 997445 | Dalmia      | Jagmohan  | Clerk      | 2001-07-01 |  12000 | 0.02 | 30     |\n",
            "| 989007 | Ganguly     | Sourav    | Cus_Rep    | 2002-01-01 |  20000 | 0.03 | 40     |\n",
            "| 299034 | Ganesan     | Rekha     | Director   | 2002-10-10 |  60000 | 0.11 | 10     |\n",
            "| 546223 | Karthikeyan | Narayan   | Secretary  | 2005-12-04 |  40000 | 0.09 | 10     |\n",
            "| 223112 | Mirza       | Sania     | Cus_Rep    | 2001-11-19 |  25000 | 0.04 | 30     |\n",
            "+--------+-------------+-----------+------------+------------+--------+------+--------+\n"
          ]
        }
      ]
    },
    {
      "cell_type": "markdown",
      "source": [
        "**Department** **table**:"
      ],
      "metadata": {
        "id": "_rNKfKXTVb45"
      }
    },
    {
      "cell_type": "code",
      "source": [
        "!mysql Soumo_DB -e 'select * from dept'"
      ],
      "metadata": {
        "colab": {
          "base_uri": "https://localhost:8080/"
        },
        "id": "nsg1_Lh0kDw8",
        "outputId": "2647dffb-5df1-4301-b9c8-e80520454997"
      },
      "execution_count": null,
      "outputs": [
        {
          "output_type": "stream",
          "name": "stdout",
          "text": [
            "+--------+------------+-----------+----------+\n",
            "| deptid | deptname   | managerid | location |\n",
            "+--------+------------+-----------+----------+\n",
            "| 10     | Corporate  | 299034    | Calcutta |\n",
            "| 20     | Sales      | 239456    | Calcutta |\n",
            "| 30     | Accounts   | 822134    | Calcutta |\n",
            "| 40     | Production | 349870    | Bombay   |\n",
            "+--------+------------+-----------+----------+\n"
          ]
        }
      ]
    },
    {
      "cell_type": "markdown",
      "source": [
        "# **Aggregate** **funtions**"
      ],
      "metadata": {
        "id": "URJJS80lXsDg"
      }
    },
    {
      "cell_type": "markdown",
      "source": [
        "**Count** **Funtion**:"
      ],
      "metadata": {
        "id": "ZXvn_N7xVjSV"
      }
    },
    {
      "cell_type": "code",
      "source": [
        "!mysql Soumo_DB -e 'select count(empid) from empl'"
      ],
      "metadata": {
        "id": "0SAZoEyPkjxK",
        "colab": {
          "base_uri": "https://localhost:8080/"
        },
        "outputId": "6f73b466-1d90-48fa-f59f-5d83629700b7"
      },
      "execution_count": null,
      "outputs": [
        {
          "output_type": "stream",
          "name": "stdout",
          "text": [
            "+--------------+\n",
            "| count(empid) |\n",
            "+--------------+\n",
            "|           12 |\n",
            "+--------------+\n"
          ]
        }
      ]
    },
    {
      "cell_type": "code",
      "source": [
        "!mysql Soumo_DB -e 'select count(deptid) from dept'"
      ],
      "metadata": {
        "colab": {
          "base_uri": "https://localhost:8080/"
        },
        "id": "Xsdw7JOHU4i5",
        "outputId": "19f6fa65-385a-4282-a300-04500b941bd3"
      },
      "execution_count": null,
      "outputs": [
        {
          "output_type": "stream",
          "name": "stdout",
          "text": [
            "+---------------+\n",
            "| count(deptid) |\n",
            "+---------------+\n",
            "|             4 |\n",
            "+---------------+\n"
          ]
        }
      ]
    },
    {
      "cell_type": "markdown",
      "source": [
        "**Sum** **Function**:"
      ],
      "metadata": {
        "id": "3EkXZeb2V3-w"
      }
    },
    {
      "cell_type": "code",
      "source": [
        "!mysql Soumo_DB -e 'select sum(salary) from empl'"
      ],
      "metadata": {
        "colab": {
          "base_uri": "https://localhost:8080/"
        },
        "id": "k1Wo3Ae1V1Jm",
        "outputId": "30a368a1-96b6-4f21-ba93-86212ef35f62"
      },
      "execution_count": null,
      "outputs": [
        {
          "output_type": "stream",
          "name": "stdout",
          "text": [
            "+-------------+\n",
            "| sum(salary) |\n",
            "+-------------+\n",
            "|      336000 |\n",
            "+-------------+\n"
          ]
        }
      ]
    },
    {
      "cell_type": "markdown",
      "source": [
        "**Group** **BY**:"
      ],
      "metadata": {
        "id": "y03a2UfGWUGW"
      }
    },
    {
      "cell_type": "code",
      "source": [
        "!mysql Soumo_DB -e 'select jobdesc,sum(salary) from empl group by jobdesc'"
      ],
      "metadata": {
        "colab": {
          "base_uri": "https://localhost:8080/"
        },
        "id": "j_nJdyGPWJ9a",
        "outputId": "946bfc08-4f03-4d22-dbbb-ad8d2a5df02c"
      },
      "execution_count": null,
      "outputs": [
        {
          "output_type": "stream",
          "name": "stdout",
          "text": [
            "+------------+-------------+\n",
            "| jobdesc    | sum(salary) |\n",
            "+------------+-------------+\n",
            "| Clerk      |       31000 |\n",
            "| Cus_Rep    |       60000 |\n",
            "| Director   |       60000 |\n",
            "| Executive  |       50000 |\n",
            "| Manager    |       55000 |\n",
            "| Secretary  |       40000 |\n",
            "| Sr Manager |       40000 |\n",
            "+------------+-------------+\n"
          ]
        }
      ]
    },
    {
      "cell_type": "markdown",
      "source": [
        "**Average**:"
      ],
      "metadata": {
        "id": "tQjNBZ3eXHi1"
      }
    },
    {
      "cell_type": "code",
      "source": [
        "!mysql Soumo_DB -e 'select avg(salary) from empl'"
      ],
      "metadata": {
        "colab": {
          "base_uri": "https://localhost:8080/"
        },
        "id": "9zw8jZjkWj4W",
        "outputId": "d01742b7-4fc1-4a11-8a77-6fdde90c3858"
      },
      "execution_count": null,
      "outputs": [
        {
          "output_type": "stream",
          "name": "stdout",
          "text": [
            "+-------------+\n",
            "| avg(salary) |\n",
            "+-------------+\n",
            "|  28000.0000 |\n",
            "+-------------+\n"
          ]
        }
      ]
    },
    {
      "cell_type": "markdown",
      "source": [
        "**Min** **Max**:"
      ],
      "metadata": {
        "id": "B6CA1oBUXP21"
      }
    },
    {
      "cell_type": "code",
      "source": [
        "!mysql Soumo_DB -e 'select min(salary) from empl'"
      ],
      "metadata": {
        "colab": {
          "base_uri": "https://localhost:8080/"
        },
        "id": "OoDmZ6rYXOsM",
        "outputId": "ab6ac2bf-1a44-427f-960c-37781f345fca"
      },
      "execution_count": null,
      "outputs": [
        {
          "output_type": "stream",
          "name": "stdout",
          "text": [
            "+-------------+\n",
            "| min(salary) |\n",
            "+-------------+\n",
            "|        9000 |\n",
            "+-------------+\n"
          ]
        }
      ]
    },
    {
      "cell_type": "code",
      "source": [
        "!mysql Soumo_DB -e 'select max(salary) from empl'"
      ],
      "metadata": {
        "colab": {
          "base_uri": "https://localhost:8080/"
        },
        "id": "VA_Gs_WiW45O",
        "outputId": "5396daec-c218-4a64-beb9-8f7e26170b33"
      },
      "execution_count": null,
      "outputs": [
        {
          "output_type": "stream",
          "name": "stdout",
          "text": [
            "+-------------+\n",
            "| max(salary) |\n",
            "+-------------+\n",
            "|       60000 |\n",
            "+-------------+\n"
          ]
        }
      ]
    },
    {
      "cell_type": "markdown",
      "source": [
        "# **Mathemetical** **functions**"
      ],
      "metadata": {
        "id": "cqa3c6pzXz2D"
      }
    },
    {
      "cell_type": "markdown",
      "source": [
        "**Ceil and Floor functions:**\n",
        "* ceil is for higher integer\n",
        "* floor is for lower integer"
      ],
      "metadata": {
        "id": "iVDnf9aMYOFe"
      }
    },
    {
      "cell_type": "code",
      "source": [
        "!mysql Soumo_DB -e 'select firstname,salary,ceil(salary) as ceil,floor(salary) as floor from empl'"
      ],
      "metadata": {
        "colab": {
          "base_uri": "https://localhost:8080/"
        },
        "id": "-oL_YXYgXm0-",
        "outputId": "f96f52d7-8f89-45f2-8165-8bedb563997e"
      },
      "execution_count": 43,
      "outputs": [
        {
          "output_type": "stream",
          "name": "stdout",
          "text": [
            "+-----------+--------+-------+-------+\n",
            "| firstname | salary | ceil  | floor |\n",
            "+-----------+--------+-------+-------+\n",
            "| Amitabh   |  50000 | 50000 | 50000 |\n",
            "| Rani      |  25000 | 25000 | 25000 |\n",
            "| Madhuri   |  10000 | 10000 | 10000 |\n",
            "| Shahrukh  |  30000 | 30000 | 30000 |\n",
            "| Virender  |  15000 | 15000 | 15000 |\n",
            "| Mahender  |   9000 |  9000 |  9000 |\n",
            "| Rahul     |  40000 | 40000 | 40000 |\n",
            "| Jagmohan  |  12000 | 12000 | 12000 |\n",
            "| Sourav    |  20000 | 20000 | 20000 |\n",
            "| Rekha     |  60000 | 60000 | 60000 |\n",
            "| Narayan   |  40000 | 40000 | 40000 |\n",
            "| Sania     |  25000 | 25000 | 25000 |\n",
            "+-----------+--------+-------+-------+\n"
          ]
        }
      ]
    },
    {
      "cell_type": "markdown",
      "source": [
        "**Turncate**:"
      ],
      "metadata": {
        "id": "VHAQsAU2fpS3"
      }
    },
    {
      "cell_type": "code",
      "source": [
        "!mysql Soumo_DB -e 'select firstname,salary,truncate(salary,1) from empl'"
      ],
      "metadata": {
        "id": "u6WP13r5aP9T",
        "colab": {
          "base_uri": "https://localhost:8080/"
        },
        "outputId": "443bb919-548e-4119-cedd-90fc00f21bb6"
      },
      "execution_count": 46,
      "outputs": [
        {
          "output_type": "stream",
          "name": "stdout",
          "text": [
            "+-----------+--------+--------------------+\n",
            "| firstname | salary | truncate(salary,1) |\n",
            "+-----------+--------+--------------------+\n",
            "| Amitabh   |  50000 |              50000 |\n",
            "| Rani      |  25000 |              25000 |\n",
            "| Madhuri   |  10000 |              10000 |\n",
            "| Shahrukh  |  30000 |              30000 |\n",
            "| Virender  |  15000 |              15000 |\n",
            "| Mahender  |   9000 |               9000 |\n",
            "| Rahul     |  40000 |              40000 |\n",
            "| Jagmohan  |  12000 |              12000 |\n",
            "| Sourav    |  20000 |              20000 |\n",
            "| Rekha     |  60000 |              60000 |\n",
            "| Narayan   |  40000 |              40000 |\n",
            "| Sania     |  25000 |              25000 |\n",
            "+-----------+--------+--------------------+\n"
          ]
        }
      ]
    },
    {
      "cell_type": "markdown",
      "source": [
        "**Modulo**:\\\n",
        "checking that the slary is in even number or odd number"
      ],
      "metadata": {
        "id": "JkNcXKHafy5D"
      }
    },
    {
      "cell_type": "code",
      "source": [
        "!mysql Soumo_DB -e 'select firstname,salary,mod(salary,2) as modulo from empl'"
      ],
      "metadata": {
        "colab": {
          "base_uri": "https://localhost:8080/"
        },
        "id": "GJQXM_ZJfdVQ",
        "outputId": "b677f435-8c94-4436-fa95-c266ad2e90d1"
      },
      "execution_count": 48,
      "outputs": [
        {
          "output_type": "stream",
          "name": "stdout",
          "text": [
            "+-----------+--------+--------+\n",
            "| firstname | salary | modulo |\n",
            "+-----------+--------+--------+\n",
            "| Amitabh   |  50000 |      0 |\n",
            "| Rani      |  25000 |      0 |\n",
            "| Madhuri   |  10000 |      0 |\n",
            "| Shahrukh  |  30000 |      0 |\n",
            "| Virender  |  15000 |      0 |\n",
            "| Mahender  |   9000 |      0 |\n",
            "| Rahul     |  40000 |      0 |\n",
            "| Jagmohan  |  12000 |      0 |\n",
            "| Sourav    |  20000 |      0 |\n",
            "| Rekha     |  60000 |      0 |\n",
            "| Narayan   |  40000 |      0 |\n",
            "| Sania     |  25000 |      0 |\n",
            "+-----------+--------+--------+\n"
          ]
        }
      ]
    },
    {
      "cell_type": "markdown",
      "source": [
        "# **String funtions**"
      ],
      "metadata": {
        "id": "FWGy_TOVhb_2"
      }
    },
    {
      "cell_type": "markdown",
      "source": [
        "**Upper and Lower case:**"
      ],
      "metadata": {
        "id": "1KW3ebo0hwXT"
      }
    },
    {
      "cell_type": "code",
      "source": [
        "!mysql Soumo_DB -e 'select upper(location) from dept'"
      ],
      "metadata": {
        "colab": {
          "base_uri": "https://localhost:8080/"
        },
        "id": "t_gl4xr0g-sW",
        "outputId": "025d37a5-2f16-4161-e3cd-2d156d55912a"
      },
      "execution_count": 50,
      "outputs": [
        {
          "output_type": "stream",
          "name": "stdout",
          "text": [
            "+-----------------+\n",
            "| upper(location) |\n",
            "+-----------------+\n",
            "| CALCUTTA        |\n",
            "| CALCUTTA        |\n",
            "| CALCUTTA        |\n",
            "| BOMBAY          |\n",
            "+-----------------+\n"
          ]
        }
      ]
    },
    {
      "cell_type": "code",
      "source": [
        "!mysql Soumo_DB -e 'select lower(location) from dept'"
      ],
      "metadata": {
        "colab": {
          "base_uri": "https://localhost:8080/"
        },
        "id": "mz1GApiYhqLk",
        "outputId": "ec9ee102-d494-4c2a-87e1-ab37c4e6502d"
      },
      "execution_count": 51,
      "outputs": [
        {
          "output_type": "stream",
          "name": "stdout",
          "text": [
            "+-----------------+\n",
            "| lower(location) |\n",
            "+-----------------+\n",
            "| calcutta        |\n",
            "| calcutta        |\n",
            "| calcutta        |\n",
            "| bombay          |\n",
            "+-----------------+\n"
          ]
        }
      ]
    },
    {
      "cell_type": "markdown",
      "source": [
        "**Concat:**"
      ],
      "metadata": {
        "id": "FlEn9lpoiqN0"
      }
    },
    {
      "cell_type": "code",
      "source": [
        "!mysql Soumo_DB -e 'select concat(firstname,\" \",lastname) as name from empl'"
      ],
      "metadata": {
        "colab": {
          "base_uri": "https://localhost:8080/"
        },
        "id": "ctneFzFOiGgG",
        "outputId": "6ec54808-141a-4619-b7eb-a50116d4fd6c"
      },
      "execution_count": 55,
      "outputs": [
        {
          "output_type": "stream",
          "name": "stdout",
          "text": [
            "+---------------------+\n",
            "| name                |\n",
            "+---------------------+\n",
            "| Amitabh Bacchan     |\n",
            "| Rani Mukherjee      |\n",
            "| Madhuri Dikshit     |\n",
            "| Shahrukh Khan       |\n",
            "| Virender Sehwag     |\n",
            "| Mahender Dhoni      |\n",
            "| Rahul Dravid        |\n",
            "| Jagmohan Dalmia     |\n",
            "| Sourav Ganguly      |\n",
            "| Rekha Ganesan       |\n",
            "| Narayan Karthikeyan |\n",
            "| Sania Mirza         |\n",
            "+---------------------+\n"
          ]
        }
      ]
    },
    {
      "cell_type": "markdown",
      "source": [
        "We are not using trim function here as all the space are quite well."
      ],
      "metadata": {
        "id": "7M5fWuo6i3D5"
      }
    },
    {
      "cell_type": "markdown",
      "source": [
        "# **Date and time function:**"
      ],
      "metadata": {
        "id": "nX7vDJ2UjJfW"
      }
    },
    {
      "cell_type": "markdown",
      "source": [
        "**date function:**\n",
        "* Time function is not used as our table doesn't contains any time."
      ],
      "metadata": {
        "id": "FdHSWiQVjqbP"
      }
    },
    {
      "cell_type": "code",
      "source": [
        "!mysql Soumo_DB -e 'select firstname,date(joindate) as date from empl'"
      ],
      "metadata": {
        "colab": {
          "base_uri": "https://localhost:8080/"
        },
        "id": "yj4lZ5z1iVUN",
        "outputId": "e69e3b89-2751-462b-bd51-79dd42b8e5b3"
      },
      "execution_count": 57,
      "outputs": [
        {
          "output_type": "stream",
          "name": "stdout",
          "text": [
            "+-----------+------------+\n",
            "| firstname | date       |\n",
            "+-----------+------------+\n",
            "| Amitabh   | 2003-03-10 |\n",
            "| Rani      | 2005-05-04 |\n",
            "| Madhuri   | 2002-04-04 |\n",
            "| Shahrukh  | 2004-01-03 |\n",
            "| Virender  | 2005-01-02 |\n",
            "| Mahender  | 2004-10-09 |\n",
            "| Rahul     | 2000-06-04 |\n",
            "| Jagmohan  | 2001-07-01 |\n",
            "| Sourav    | 2002-01-01 |\n",
            "| Rekha     | 2002-10-10 |\n",
            "| Narayan   | 2005-12-04 |\n",
            "| Sania     | 2001-11-19 |\n",
            "+-----------+------------+\n"
          ]
        }
      ]
    },
    {
      "cell_type": "markdown",
      "source": [
        "**Extract function:**"
      ],
      "metadata": {
        "id": "dNL9AyqEkmWW"
      }
    },
    {
      "cell_type": "code",
      "source": [
        "!mysql Soumo_DB -e 'select firstname,extract(year from joindate) as year,extract(month from joindate) as month,extract(day from joindate) as day from empl'"
      ],
      "metadata": {
        "colab": {
          "base_uri": "https://localhost:8080/"
        },
        "id": "LCMj-S_IjcNw",
        "outputId": "764f6b88-3417-4099-956b-d1bbd9010861"
      },
      "execution_count": 60,
      "outputs": [
        {
          "output_type": "stream",
          "name": "stdout",
          "text": [
            "+-----------+------+-------+------+\n",
            "| firstname | year | month | day  |\n",
            "+-----------+------+-------+------+\n",
            "| Amitabh   | 2003 |     3 |   10 |\n",
            "| Rani      | 2005 |     5 |    4 |\n",
            "| Madhuri   | 2002 |     4 |    4 |\n",
            "| Shahrukh  | 2004 |     1 |    3 |\n",
            "| Virender  | 2005 |     1 |    2 |\n",
            "| Mahender  | 2004 |    10 |    9 |\n",
            "| Rahul     | 2000 |     6 |    4 |\n",
            "| Jagmohan  | 2001 |     7 |    1 |\n",
            "| Sourav    | 2002 |     1 |    1 |\n",
            "| Rekha     | 2002 |    10 |   10 |\n",
            "| Narayan   | 2005 |    12 |    4 |\n",
            "| Sania     | 2001 |    11 |   19 |\n",
            "+-----------+------+-------+------+\n"
          ]
        }
      ]
    },
    {
      "cell_type": "markdown",
      "source": [
        "extractions can be done from date:"
      ],
      "metadata": {
        "id": "0V4Bn3awlVnI"
      }
    },
    {
      "cell_type": "markdown",
      "source": [
        "![image.png](data:image/png;base64,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)"
      ],
      "metadata": {
        "id": "ecsa3bhIlRek"
      }
    },
    {
      "cell_type": "code",
      "source": [
        "!mysql Soumo_DB -e 'select firstname,extract(week from joindate) as week,extract(quarter from joindate) as quarter from empl'"
      ],
      "metadata": {
        "colab": {
          "base_uri": "https://localhost:8080/"
        },
        "id": "K7Pw2Z_VkU3j",
        "outputId": "ddccee59-d9e2-492a-936a-c32bf0d83df9"
      },
      "execution_count": 68,
      "outputs": [
        {
          "output_type": "stream",
          "name": "stdout",
          "text": [
            "+-----------+------+---------+\n",
            "| firstname | week | quarter |\n",
            "+-----------+------+---------+\n",
            "| Amitabh   |   10 |       1 |\n",
            "| Rani      |   18 |       2 |\n",
            "| Madhuri   |   13 |       2 |\n",
            "| Shahrukh  |    0 |       1 |\n",
            "| Virender  |    1 |       1 |\n",
            "| Mahender  |   40 |       4 |\n",
            "| Rahul     |   23 |       2 |\n",
            "| Jagmohan  |   26 |       3 |\n",
            "| Sourav    |    0 |       1 |\n",
            "| Rekha     |   40 |       4 |\n",
            "| Narayan   |   49 |       4 |\n",
            "| Sania     |   46 |       4 |\n",
            "+-----------+------+---------+\n"
          ]
        }
      ]
    },
    {
      "cell_type": "markdown",
      "source": [
        "**Date format:**"
      ],
      "metadata": {
        "id": "Nd8yTUg4maQr"
      }
    },
    {
      "cell_type": "code",
      "source": [
        "!mysql Soumo_DB -e 'select firstname,date_format(joindate,\"%d %b %y\") as week from empl'"
      ],
      "metadata": {
        "colab": {
          "base_uri": "https://localhost:8080/"
        },
        "id": "jVZV0DFPk3Kq",
        "outputId": "bb22f330-621d-44e6-8c0b-225b56ba3ed0"
      },
      "execution_count": 72,
      "outputs": [
        {
          "output_type": "stream",
          "name": "stdout",
          "text": [
            "+-----------+-----------+\n",
            "| firstname | week      |\n",
            "+-----------+-----------+\n",
            "| Amitabh   | 10 Mar 03 |\n",
            "| Rani      | 04 May 05 |\n",
            "| Madhuri   | 04 Apr 02 |\n",
            "| Shahrukh  | 03 Jan 04 |\n",
            "| Virender  | 02 Jan 05 |\n",
            "| Mahender  | 09 Oct 04 |\n",
            "| Rahul     | 04 Jun 00 |\n",
            "| Jagmohan  | 01 Jul 01 |\n",
            "| Sourav    | 01 Jan 02 |\n",
            "| Rekha     | 10 Oct 02 |\n",
            "| Narayan   | 04 Dec 05 |\n",
            "| Sania     | 19 Nov 01 |\n",
            "+-----------+-----------+\n"
          ]
        }
      ]
    },
    {
      "cell_type": "code",
      "source": [
        "!mysql Soumo_DB -e 'select * from empl'"
      ],
      "metadata": {
        "colab": {
          "base_uri": "https://localhost:8080/"
        },
        "id": "HgSGCm47BoT4",
        "outputId": "6b9ba83d-7f66-4613-edeb-252867491bd7"
      },
      "execution_count": 112,
      "outputs": [
        {
          "output_type": "stream",
          "name": "stdout",
          "text": [
            "+--------+-------------+-----------+------------+------------+--------+------+--------+\n",
            "| empid  | lastname    | firstname | jobdesc    | joindate   | salary | comm | deptid |\n",
            "+--------+-------------+-----------+------------+------------+--------+------+--------+\n",
            "| 742866 | Bacchan     | Amitabh   | Executive  | 2003-03-10 |  50000 | 0.10 | 10     |\n",
            "| 349870 | Mukherjee   | Rani      | Manager    | 2005-05-04 |  25000 | 0.06 | 40     |\n",
            "| 865477 | Dikshit     | Madhuri   | Clerk      | 2002-04-04 |  10000 | 0.02 | 20     |\n",
            "| 239456 | Khan        | Shahrukh  | Manager    | 2004-01-03 |  30000 | 0.07 | 20     |\n",
            "| 897889 | Sehwag      | Virender  | Cus_Rep    | 2005-01-02 |  15000 | 0.05 | 20     |\n",
            "| 123980 | Dhoni       | Mahender  | Clerk      | 2004-10-09 |   9000 | 0.02 | 40     |\n",
            "| 822134 | Dravid      | Rahul     | Sr Manager | 2000-06-04 |  40000 | 0.08 | 30     |\n",
            "| 997445 | Dalmia      | Jagmohan  | Clerk      | 2001-07-01 |  12000 | 0.02 | 30     |\n",
            "| 989007 | Ganguly     | Sourav    | Cus_Rep    | 2002-01-01 |  20000 | 0.03 | 40     |\n",
            "| 299034 | Ganesan     | Rekha     | Director   | 2002-10-10 |  60000 | 0.11 | 10     |\n",
            "| 546223 | Karthikeyan | Narayan   | Secretary  | 2005-12-04 |  40000 | 0.09 | 10     |\n",
            "| 223112 | Mirza       | Sania     | Cus_Rep    | 2001-11-19 |  25000 | 0.04 | 30     |\n",
            "+--------+-------------+-----------+------------+------------+--------+------+--------+\n"
          ]
        }
      ]
    },
    {
      "cell_type": "markdown",
      "source": [
        "# **Window function:**"
      ],
      "metadata": {
        "id": "sJQiN7CTsF8P"
      }
    },
    {
      "cell_type": "code",
      "source": [
        "!mysql Soumo_DB -e 'select firstname, jobdesc, SUM(salary) OVER (PARTITION BY jobdesc) as 'Sal_par' from empl'"
      ],
      "metadata": {
        "colab": {
          "base_uri": "https://localhost:8080/"
        },
        "id": "ogK9O1-wr_Ee",
        "outputId": "e1028747-0c3e-4878-ef9d-658b024eb157"
      },
      "execution_count": 116,
      "outputs": [
        {
          "output_type": "stream",
          "name": "stdout",
          "text": [
            "ERROR 1064 (42000) at line 1: You have an error in your SQL syntax; check the manual that corresponds to your MySQL server version for the right syntax to use near '(PARTITION BY jobdesc) as Sal_par from empl' at line 1\n"
          ]
        }
      ]
    },
    {
      "cell_type": "markdown",
      "source": [
        "Window function is not available in this version"
      ],
      "metadata": {
        "id": "-yWwCoHiHA6k"
      }
    },
    {
      "cell_type": "markdown",
      "source": [
        "# **Miscellaneous** **functions** "
      ],
      "metadata": {
        "id": "BpxgVTi2vwks"
      }
    },
    {
      "cell_type": "markdown",
      "source": [
        "**convert function**"
      ],
      "metadata": {
        "id": "QiuvldFlwKuD"
      }
    },
    {
      "cell_type": "code",
      "source": [
        "!mysql Soumo_DB -e 'select firstname,jobdesc,convert(joindate,date) as date from empl'"
      ],
      "metadata": {
        "colab": {
          "base_uri": "https://localhost:8080/"
        },
        "id": "URh-gt54v671",
        "outputId": "a0606960-80a1-4eb0-f057-fb5e560cdad6"
      },
      "execution_count": 91,
      "outputs": [
        {
          "output_type": "stream",
          "name": "stdout",
          "text": [
            "+-----------+------------+------------+\n",
            "| firstname | jobdesc    | date       |\n",
            "+-----------+------------+------------+\n",
            "| Amitabh   | Executive  | 2003-03-10 |\n",
            "| Rani      | Manager    | 2005-05-04 |\n",
            "| Madhuri   | Clerk      | 2002-04-04 |\n",
            "| Shahrukh  | Manager    | 2004-01-03 |\n",
            "| Virender  | Cus_Rep    | 2005-01-02 |\n",
            "| Mahender  | Clerk      | 2004-10-09 |\n",
            "| Rahul     | Sr Manager | 2000-06-04 |\n",
            "| Jagmohan  | Clerk      | 2001-07-01 |\n",
            "| Sourav    | Cus_Rep    | 2002-01-01 |\n",
            "| Rekha     | Director   | 2002-10-10 |\n",
            "| Narayan   | Secretary  | 2005-12-04 |\n",
            "| Sania     | Cus_Rep    | 2001-11-19 |\n",
            "+-----------+------------+------------+\n"
          ]
        }
      ]
    },
    {
      "cell_type": "markdown",
      "source": [
        "**Null function**"
      ],
      "metadata": {
        "id": "Kk82WCErwiBD"
      }
    },
    {
      "cell_type": "code",
      "source": [
        "!mysql Soumo_DB -e 'select firstname,jobdesc,isnull(lastname) as no_last_name from empl'"
      ],
      "metadata": {
        "colab": {
          "base_uri": "https://localhost:8080/"
        },
        "id": "9PiNQ48VwI6P",
        "outputId": "ead39605-29a4-4553-d548-f9a1012beae6"
      },
      "execution_count": 92,
      "outputs": [
        {
          "output_type": "stream",
          "name": "stdout",
          "text": [
            "+-----------+------------+--------------+\n",
            "| firstname | jobdesc    | no_last_name |\n",
            "+-----------+------------+--------------+\n",
            "| Amitabh   | Executive  |            0 |\n",
            "| Rani      | Manager    |            0 |\n",
            "| Madhuri   | Clerk      |            0 |\n",
            "| Shahrukh  | Manager    |            0 |\n",
            "| Virender  | Cus_Rep    |            0 |\n",
            "| Mahender  | Clerk      |            0 |\n",
            "| Rahul     | Sr Manager |            0 |\n",
            "| Jagmohan  | Clerk      |            0 |\n",
            "| Sourav    | Cus_Rep    |            0 |\n",
            "| Rekha     | Director   |            0 |\n",
            "| Narayan   | Secretary  |            0 |\n",
            "| Sania     | Cus_Rep    |            0 |\n",
            "+-----------+------------+--------------+\n"
          ]
        }
      ]
    },
    {
      "cell_type": "markdown",
      "source": [
        "**if function**"
      ],
      "metadata": {
        "id": "kmps0WHTw689"
      }
    },
    {
      "cell_type": "code",
      "source": [
        "!mysql Soumo_DB -e 'select firstname,jobdesc,if(salary>30000,\"more\",\"less\") from empl'"
      ],
      "metadata": {
        "colab": {
          "base_uri": "https://localhost:8080/"
        },
        "id": "J9g9jsDhwghA",
        "outputId": "f864fea4-c9a3-4560-c10a-78fdd6868d8d"
      },
      "execution_count": 93,
      "outputs": [
        {
          "output_type": "stream",
          "name": "stdout",
          "text": [
            "+-----------+------------+--------------------------------+\n",
            "| firstname | jobdesc    | if(salary>30000,\"more\",\"less\") |\n",
            "+-----------+------------+--------------------------------+\n",
            "| Amitabh   | Executive  | more                           |\n",
            "| Rani      | Manager    | less                           |\n",
            "| Madhuri   | Clerk      | less                           |\n",
            "| Shahrukh  | Manager    | less                           |\n",
            "| Virender  | Cus_Rep    | less                           |\n",
            "| Mahender  | Clerk      | less                           |\n",
            "| Rahul     | Sr Manager | more                           |\n",
            "| Jagmohan  | Clerk      | less                           |\n",
            "| Sourav    | Cus_Rep    | less                           |\n",
            "| Rekha     | Director   | more                           |\n",
            "| Narayan   | Secretary  | more                           |\n",
            "| Sania     | Cus_Rep    | less                           |\n",
            "+-----------+------------+--------------------------------+\n"
          ]
        }
      ]
    },
    {
      "cell_type": "code",
      "source": [],
      "metadata": {
        "id": "b-XI9TY5w48I"
      },
      "execution_count": null,
      "outputs": []
    },
    {
      "cell_type": "code",
      "source": [],
      "metadata": {
        "id": "JdFKOOGoy--N"
      },
      "execution_count": null,
      "outputs": []
    }
  ]
}